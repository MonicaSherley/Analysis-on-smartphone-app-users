{
 "cells": [
  {
   "cell_type": "markdown",
   "id": "39d8ac9f",
   "metadata": {},
   "source": [
    "# Import libraries"
   ]
  },
  {
   "cell_type": "code",
   "execution_count": 1,
   "id": "19a584e1",
   "metadata": {},
   "outputs": [],
   "source": [
    "import pandas as pd\n",
    "import numpy as np\n",
    "import matplotlib.pyplot as plt\n",
    "import seaborn as sns\n",
    "sns.set()\n",
    "%matplotlib inline\n",
    "\n",
    "from sklearn.preprocessing import MinMaxScaler\n",
    "from sklearn.cluster import KMeans"
   ]
  },
  {
   "cell_type": "markdown",
   "id": "a124bc38",
   "metadata": {},
   "source": [
    "# Import Data"
   ]
  },
  {
   "cell_type": "code",
   "execution_count": 2,
   "id": "11eb0e3c",
   "metadata": {},
   "outputs": [
    {
     "name": "stdout",
     "output_type": "stream",
     "text": [
      "   userid  Screen Time  Amount Spent on App (INR)  Review  Ratings  \\\n",
      "0    1001           17                        634       1        9   \n",
      "1    1002            0                         54       0        4   \n",
      "2    1003           37                        207       0        8   \n",
      "3    1004           32                        445       1        6   \n",
      "4    1005           45                        427       1        5   \n",
      "\n",
      "   New Password Request  Last Visited Minutes       Status  \n",
      "0                     7                  2990    Installed  \n",
      "1                     8                 24008  Uninstalled  \n",
      "2                     5                   971    Installed  \n",
      "3                     2                   799    Installed  \n",
      "4                     6                  3668    Installed  \n"
     ]
    }
   ],
   "source": [
    "data = pd.read_csv(\"F:/DS/MAIN PROJECT/FINAL/report/Analysis on smartphone app users.csv\")\n",
    "print(data.head())"
   ]
  },
  {
   "cell_type": "markdown",
   "id": "6066bac9",
   "metadata": {},
   "source": [
    "# Data Exploration"
   ]
  },
  {
   "cell_type": "code",
   "execution_count": 3,
   "id": "fa86e457",
   "metadata": {},
   "outputs": [
    {
     "data": {
      "text/plain": [
       "(999, 8)"
      ]
     },
     "execution_count": 3,
     "metadata": {},
     "output_type": "execute_result"
    }
   ],
   "source": [
    "data.shape"
   ]
  },
  {
   "cell_type": "code",
   "execution_count": 4,
   "id": "945d1344",
   "metadata": {},
   "outputs": [
    {
     "name": "stdout",
     "output_type": "stream",
     "text": [
      "<class 'pandas.core.frame.DataFrame'>\n",
      "RangeIndex: 999 entries, 0 to 998\n",
      "Data columns (total 8 columns):\n",
      " #   Column                     Non-Null Count  Dtype \n",
      "---  ------                     --------------  ----- \n",
      " 0   userid                     999 non-null    int64 \n",
      " 1   Screen Time                999 non-null    int64 \n",
      " 2   Amount Spent on App (INR)  999 non-null    int64 \n",
      " 3   Review                     999 non-null    int64 \n",
      " 4   Ratings                    999 non-null    int64 \n",
      " 5   New Password Request       999 non-null    int64 \n",
      " 6   Last Visited Minutes       999 non-null    int64 \n",
      " 7   Status                     999 non-null    object\n",
      "dtypes: int64(7), object(1)\n",
      "memory usage: 62.6+ KB\n"
     ]
    }
   ],
   "source": [
    "data.info()"
   ]
  },
  {
   "cell_type": "code",
   "execution_count": 5,
   "id": "846f2342",
   "metadata": {},
   "outputs": [
    {
     "data": {
      "text/plain": [
       "userid                       0\n",
       "Screen Time                  0\n",
       "Amount Spent on App (INR)    0\n",
       "Review                       0\n",
       "Ratings                      0\n",
       "New Password Request         0\n",
       "Last Visited Minutes         0\n",
       "Status                       0\n",
       "dtype: int64"
      ]
     },
     "execution_count": 5,
     "metadata": {},
     "output_type": "execute_result"
    }
   ],
   "source": [
    "# Checking Null Values\n",
    "data.isnull().sum()"
   ]
  },
  {
   "cell_type": "code",
   "execution_count": 6,
   "id": "3627fcfa",
   "metadata": {},
   "outputs": [],
   "source": [
    "#OUTLIERS\n",
    "data = pd.read_csv(\"F:/DS/MAIN PROJECT/FINAL/report/Analysis on smartphone app users.csv\")\n",
    "\n",
    "# extract numerical columns from data\n",
    "X = data.select_dtypes(include=[np.number]).values\n",
    "\n",
    "# set threshold for outlier detection\n",
    "threshold = 3 \n",
    "\n",
    "# calculate mean and standard deviation for each feature\n",
    "mean = np.mean(X, axis=0)\n",
    "std = np.std(X, axis=0)\n",
    "\n",
    "# identify outliers\n",
    "outliers = np.where(np.abs((X - mean) / std) > threshold)[0]\n",
    "\n",
    "# remove outliers from data\n",
    "X_new = np.delete(X, outliers, axis=0)\n"
   ]
  },
  {
   "cell_type": "markdown",
   "id": "45b8b779",
   "metadata": {},
   "source": [
    "# EDA"
   ]
  },
  {
   "cell_type": "code",
   "execution_count": 7,
   "id": "c7fd86f2",
   "metadata": {},
   "outputs": [
    {
     "data": {
      "text/plain": [
       "0    502\n",
       "1    497\n",
       "Name: Review, dtype: int64"
      ]
     },
     "execution_count": 7,
     "metadata": {},
     "output_type": "execute_result"
    }
   ],
   "source": [
    "data['Review'].value_counts()"
   ]
  },
  {
   "cell_type": "code",
   "execution_count": 8,
   "id": "9415988c",
   "metadata": {},
   "outputs": [
    {
     "data": {
      "image/png": "[encoded data removed]",
      "text/plain": [
       "<Figure size 1008x432 with 1 Axes>"
      ]
     },
     "metadata": {
      "needs_background": "light"
     },
     "output_type": "display_data"
    }
   ],
   "source": [
    "#Plot Bar plot for Review\n",
    "plt.figure(figsize=(14,6))\n",
    "ax = sns.countplot(x='Review',data=data)\n",
    "plt.show()"
   ]
  },
  {
   "cell_type": "code",
   "execution_count": 9,
   "id": "c34644a7",
   "metadata": {},
   "outputs": [
    {
     "data": {
      "text/plain": [
       "Installed      916\n",
       "Uninstalled     83\n",
       "Name: Status, dtype: int64"
      ]
     },
     "execution_count": 9,
     "metadata": {},
     "output_type": "execute_result"
    }
   ],
   "source": [
    "data['Status'].value_counts()"
   ]
  },
  {
   "cell_type": "code",
   "execution_count": 10,
   "id": "49e819ee",
   "metadata": {},
   "outputs": [
    {
     "data": {
      "image/png": "[encoded data removed]",
      "text/plain": [
       "<Figure size 1008x432 with 1 Axes>"
      ]
     },
     "metadata": {
      "needs_background": "light"
     },
     "output_type": "display_data"
    }
   ],
   "source": [
    "plt.figure(figsize=(14,6))\n",
    "ax = sns.countplot(x='Status',data=data)\n",
    "plt.show()"
   ]
  },
  {
   "cell_type": "code",
   "execution_count": 11,
   "id": "33432d6b",
   "metadata": {},
   "outputs": [
    {
     "data": {
      "text/plain": [
       "9     142\n",
       "5     141\n",
       "10    137\n",
       "7     136\n",
       "8     133\n",
       "6     131\n",
       "2      42\n",
       "0      38\n",
       "4      35\n",
       "1      32\n",
       "3      32\n",
       "Name: Ratings, dtype: int64"
      ]
     },
     "execution_count": 11,
     "metadata": {},
     "output_type": "execute_result"
    }
   ],
   "source": [
    "#Checking No. of Ratings given by Users\n",
    "data['Ratings'].value_counts()"
   ]
  },
  {
   "cell_type": "code",
   "execution_count": 12,
   "id": "0d45a35c",
   "metadata": {},
   "outputs": [
    {
     "data": {
      "image/png": "[encoded data removed]",
      "text/plain": [
       "<Figure size 1008x432 with 1 Axes>"
      ]
     },
     "metadata": {
      "needs_background": "light"
     },
     "output_type": "display_data"
    }
   ],
   "source": [
    "plt.figure(figsize=(14,6))\n",
    "ax = sns.countplot(x='Ratings',data=data)\n",
    "plt.show()"
   ]
  },
  {
   "cell_type": "code",
   "execution_count": 13,
   "id": "4b6fe952",
   "metadata": {},
   "outputs": [
    {
     "data": {
      "text/plain": [
       "6     138\n",
       "8     123\n",
       "4     122\n",
       "1     121\n",
       "7     120\n",
       "5     113\n",
       "3     108\n",
       "2     106\n",
       "15     11\n",
       "10     10\n",
       "11      8\n",
       "9       7\n",
       "13      5\n",
       "14      5\n",
       "12      2\n",
       "Name: New Password Request, dtype: int64"
      ]
     },
     "execution_count": 13,
     "metadata": {},
     "output_type": "execute_result"
    }
   ],
   "source": [
    "## Checking how many times users requests for new Password\n",
    "data['New Password Request'].value_counts()"
   ]
  },
  {
   "cell_type": "code",
   "execution_count": 14,
   "id": "dee9603b",
   "metadata": {},
   "outputs": [
    {
     "data": {
      "image/png": "[encoded data removed]",
      "text/plain": [
       "<Figure size 1008x432 with 1 Axes>"
      ]
     },
     "metadata": {
      "needs_background": "light"
     },
     "output_type": "display_data"
    }
   ],
   "source": [
    "plt.figure(figsize=(14,6))\n",
    "ax = sns.countplot(x='New Password Request',data=data)\n",
    "plt.show()"
   ]
  },
  {
   "cell_type": "code",
   "execution_count": 15,
   "id": "a114158d",
   "metadata": {},
   "outputs": [
    {
     "data": {
      "text/plain": [
       "93     9\n",
       "73     8\n",
       "75     7\n",
       "31     6\n",
       "87     6\n",
       "      ..\n",
       "522    1\n",
       "198    1\n",
       "517    1\n",
       "202    1\n",
       "998    1\n",
       "Name: Amount Spent on App (INR), Length: 606, dtype: int64"
      ]
     },
     "execution_count": 15,
     "metadata": {},
     "output_type": "execute_result"
    }
   ],
   "source": [
    "data['Amount Spent on App (INR)'].value_counts()"
   ]
  },
  {
   "cell_type": "code",
   "execution_count": 16,
   "id": "c3fa14f2",
   "metadata": {},
   "outputs": [
    {
     "data": {
      "text/html": [
       "<div>\n",
       "<style scoped>\n",
       "    .dataframe tbody tr th:only-of-type {\n",
       "        vertical-align: middle;\n",
       "    }\n",
       "\n",
       "    .dataframe tbody tr th {\n",
       "        vertical-align: top;\n",
       "    }\n",
       "\n",
       "    .dataframe thead th {\n",
       "        text-align: right;\n",
       "    }\n",
       "</style>\n",
       "<table border=\"1\" class=\"dataframe\">\n",
       "  <thead>\n",
       "    <tr style=\"text-align: right;\">\n",
       "      <th></th>\n",
       "      <th>userid</th>\n",
       "      <th>Screen Time</th>\n",
       "      <th>Amount Spent on App (INR)</th>\n",
       "      <th>Review</th>\n",
       "      <th>Ratings</th>\n",
       "      <th>New Password Request</th>\n",
       "      <th>Last Visited Minutes</th>\n",
       "      <th>Status</th>\n",
       "    </tr>\n",
       "  </thead>\n",
       "  <tbody>\n",
       "    <tr>\n",
       "      <th>0</th>\n",
       "      <td>1001</td>\n",
       "      <td>17</td>\n",
       "      <td>634</td>\n",
       "      <td>1</td>\n",
       "      <td>9</td>\n",
       "      <td>7</td>\n",
       "      <td>2990</td>\n",
       "      <td>Installed</td>\n",
       "    </tr>\n",
       "    <tr>\n",
       "      <th>1</th>\n",
       "      <td>1002</td>\n",
       "      <td>0</td>\n",
       "      <td>54</td>\n",
       "      <td>0</td>\n",
       "      <td>4</td>\n",
       "      <td>8</td>\n",
       "      <td>24008</td>\n",
       "      <td>Uninstalled</td>\n",
       "    </tr>\n",
       "    <tr>\n",
       "      <th>2</th>\n",
       "      <td>1003</td>\n",
       "      <td>37</td>\n",
       "      <td>207</td>\n",
       "      <td>0</td>\n",
       "      <td>8</td>\n",
       "      <td>5</td>\n",
       "      <td>971</td>\n",
       "      <td>Installed</td>\n",
       "    </tr>\n",
       "    <tr>\n",
       "      <th>3</th>\n",
       "      <td>1004</td>\n",
       "      <td>32</td>\n",
       "      <td>445</td>\n",
       "      <td>1</td>\n",
       "      <td>6</td>\n",
       "      <td>2</td>\n",
       "      <td>799</td>\n",
       "      <td>Installed</td>\n",
       "    </tr>\n",
       "    <tr>\n",
       "      <th>4</th>\n",
       "      <td>1005</td>\n",
       "      <td>45</td>\n",
       "      <td>427</td>\n",
       "      <td>1</td>\n",
       "      <td>5</td>\n",
       "      <td>6</td>\n",
       "      <td>3668</td>\n",
       "      <td>Installed</td>\n",
       "    </tr>\n",
       "  </tbody>\n",
       "</table>\n",
       "</div>"
      ],
      "text/plain": [
       "   userid  Screen Time  Amount Spent on App (INR)  Review  Ratings  \\\n",
       "0    1001           17                        634       1        9   \n",
       "1    1002            0                         54       0        4   \n",
       "2    1003           37                        207       0        8   \n",
       "3    1004           32                        445       1        6   \n",
       "4    1005           45                        427       1        5   \n",
       "\n",
       "   New Password Request  Last Visited Minutes       Status  \n",
       "0                     7                  2990    Installed  \n",
       "1                     8                 24008  Uninstalled  \n",
       "2                     5                   971    Installed  \n",
       "3                     2                   799    Installed  \n",
       "4                     6                  3668    Installed  "
      ]
     },
     "execution_count": 16,
     "metadata": {},
     "output_type": "execute_result"
    }
   ],
   "source": [
    "data.head()"
   ]
  },
  {
   "cell_type": "markdown",
   "id": "a394ee92",
   "metadata": {},
   "source": [
    "# Highest, lowest, and average screen time of all the users"
   ]
  },
  {
   "cell_type": "code",
   "execution_count": 17,
   "id": "e62f2ebe",
   "metadata": {},
   "outputs": [
    {
     "name": "stdout",
     "output_type": "stream",
     "text": [
      "The Lowest Screen Time is: 0\n",
      "The Average Screen Time is: 24.39039039039039\n",
      "The Highest Screen Time is: 50\n"
     ]
    }
   ],
   "source": [
    "lowest_screen_time = data['Screen Time'].min()\n",
    "avg_screen_time = data['Screen Time'].mean()\n",
    "highest_screen_time = data['Screen Time'].max()\n",
    "\n",
    "print(f'The Lowest Screen Time is: {lowest_screen_time}')\n",
    "print(f'The Average Screen Time is: {avg_screen_time}')\n",
    "print(f'The Highest Screen Time is: {highest_screen_time}')"
   ]
  },
  {
   "cell_type": "code",
   "execution_count": 18,
   "id": "c2b463e9",
   "metadata": {},
   "outputs": [
    {
     "data": {
      "image/png": "[encoded data removed]",
      "text/plain": [
       "<Figure size 1008x432 with 1 Axes>"
      ]
     },
     "metadata": {
      "needs_background": "light"
     },
     "output_type": "display_data"
    }
   ],
   "source": [
    "#Plot\n",
    "labels = ['Lowest Screen Time','Average Screen Time','Highest Screen Time']\n",
    "values = [lowest_screen_time,avg_screen_time,highest_screen_time]\n",
    "plt.figure(figsize=(14,6))\n",
    "plt.title('The Highest, Lowest, and Average screen time')\n",
    "plt.ylabel('Time')\n",
    "ax = sns.barplot(x=labels,y=values)\n",
    "plt.show()"
   ]
  },
  {
   "cell_type": "markdown",
   "id": "412abec7",
   "metadata": {},
   "source": [
    "# Highest, lowest, and the average amount spent by all the users"
   ]
  },
  {
   "cell_type": "code",
   "execution_count": 19,
   "id": "91dc2854",
   "metadata": {},
   "outputs": [
    {
     "name": "stdout",
     "output_type": "stream",
     "text": [
      "The Lowest spend on app is: 0\n",
      "The Average spend on app is: 424.4154154154154\n",
      "The Highest spend on app is: 998\n"
     ]
    }
   ],
   "source": [
    "lowest_spend = data['Amount Spent on App (INR)'].min()\n",
    "avg_spend = data['Amount Spent on App (INR)'].mean()\n",
    "highest_spend = data['Amount Spent on App (INR)'].max()\n",
    "\n",
    "print(f'The Lowest spend on app is: {lowest_spend}')\n",
    "print(f'The Average spend on app is: {avg_spend}')\n",
    "print(f'The Highest spend on app is: {highest_spend}')"
   ]
  },
  {
   "cell_type": "code",
   "execution_count": 20,
   "id": "31b1cdfb",
   "metadata": {},
   "outputs": [
    {
     "data": {
      "image/png": "[encoded data removed]",
      "text/plain": [
       "<Figure size 1008x432 with 1 Axes>"
      ]
     },
     "metadata": {
      "needs_background": "light"
     },
     "output_type": "display_data"
    }
   ],
   "source": [
    "#Plot\n",
    "labels = ['Lowest Spend','Average Spend','Highest Spend']\n",
    "values = [lowest_spend,avg_spend,highest_spend]\n",
    "plt.figure(figsize=(14,6))\n",
    "plt.title('The Highest, Lowest, and Average Amount Spend on App')\n",
    "plt.ylabel('Amount in INR')\n",
    "ax = sns.barplot(x=labels,y=values)\n",
    "plt.show()"
   ]
  },
  {
   "cell_type": "code",
   "execution_count": 21,
   "id": "1eaafad1",
   "metadata": {},
   "outputs": [
    {
     "data": {
      "text/plain": [
       "<matplotlib.collections.PathCollection at 0x2a198145e50>"
      ]
     },
     "execution_count": 21,
     "metadata": {},
     "output_type": "execute_result"
    },
    {
     "data": {
      "image/png": "[encoded data removed]",
      "text/plain": [
       "<Figure size 432x288 with 1 Axes>"
      ]
     },
     "metadata": {
      "needs_background": "light"
     },
     "output_type": "display_data"
    }
   ],
   "source": [
    "plt.scatter(data['Last Visited Minutes'],data['Amount Spent on App (INR)'])\n"
   ]
  },
  {
   "cell_type": "markdown",
   "id": "5a9dd27f",
   "metadata": {},
   "source": [
    "# Elbow Method"
   ]
  },
  {
   "cell_type": "code",
   "execution_count": 22,
   "id": "81be85e4",
   "metadata": {},
   "outputs": [],
   "source": [
    "clustering_data = data[[\"Screen Time\", \"Review\", \n",
    "                        \"Ratings\", \"Last Visited Minutes\", \n",
    "                        \"Amount Spent on App (INR)\", \n",
    "                        \"New Password Request\"]]\n",
    "    "
   ]
  },
  {
   "cell_type": "code",
   "execution_count": 23,
   "id": "5264d42d",
   "metadata": {},
   "outputs": [],
   "source": [
    "for i in clustering_data.columns:\n",
    "    MinMaxScaler(i)"
   ]
  },
  {
   "cell_type": "code",
   "execution_count": 24,
   "id": "4b164e1c",
   "metadata": {},
   "outputs": [
    {
     "data": {
      "text/html": [
       "<div>\n",
       "<style scoped>\n",
       "    .dataframe tbody tr th:only-of-type {\n",
       "        vertical-align: middle;\n",
       "    }\n",
       "\n",
       "    .dataframe tbody tr th {\n",
       "        vertical-align: top;\n",
       "    }\n",
       "\n",
       "    .dataframe thead th {\n",
       "        text-align: right;\n",
       "    }\n",
       "</style>\n",
       "<table border=\"1\" class=\"dataframe\">\n",
       "  <thead>\n",
       "    <tr style=\"text-align: right;\">\n",
       "      <th></th>\n",
       "      <th>Screen Time</th>\n",
       "      <th>Review</th>\n",
       "      <th>Ratings</th>\n",
       "      <th>Last Visited Minutes</th>\n",
       "      <th>Amount Spent on App (INR)</th>\n",
       "      <th>New Password Request</th>\n",
       "    </tr>\n",
       "  </thead>\n",
       "  <tbody>\n",
       "    <tr>\n",
       "      <th>0</th>\n",
       "      <td>17</td>\n",
       "      <td>1</td>\n",
       "      <td>9</td>\n",
       "      <td>2990</td>\n",
       "      <td>634</td>\n",
       "      <td>7</td>\n",
       "    </tr>\n",
       "    <tr>\n",
       "      <th>1</th>\n",
       "      <td>0</td>\n",
       "      <td>0</td>\n",
       "      <td>4</td>\n",
       "      <td>24008</td>\n",
       "      <td>54</td>\n",
       "      <td>8</td>\n",
       "    </tr>\n",
       "    <tr>\n",
       "      <th>2</th>\n",
       "      <td>37</td>\n",
       "      <td>0</td>\n",
       "      <td>8</td>\n",
       "      <td>971</td>\n",
       "      <td>207</td>\n",
       "      <td>5</td>\n",
       "    </tr>\n",
       "    <tr>\n",
       "      <th>3</th>\n",
       "      <td>32</td>\n",
       "      <td>1</td>\n",
       "      <td>6</td>\n",
       "      <td>799</td>\n",
       "      <td>445</td>\n",
       "      <td>2</td>\n",
       "    </tr>\n",
       "    <tr>\n",
       "      <th>4</th>\n",
       "      <td>45</td>\n",
       "      <td>1</td>\n",
       "      <td>5</td>\n",
       "      <td>3668</td>\n",
       "      <td>427</td>\n",
       "      <td>6</td>\n",
       "    </tr>\n",
       "  </tbody>\n",
       "</table>\n",
       "</div>"
      ],
      "text/plain": [
       "   Screen Time  Review  Ratings  Last Visited Minutes  \\\n",
       "0           17       1        9                  2990   \n",
       "1            0       0        4                 24008   \n",
       "2           37       0        8                   971   \n",
       "3           32       1        6                   799   \n",
       "4           45       1        5                  3668   \n",
       "\n",
       "   Amount Spent on App (INR)  New Password Request  \n",
       "0                        634                     7  \n",
       "1                         54                     8  \n",
       "2                        207                     5  \n",
       "3                        445                     2  \n",
       "4                        427                     6  "
      ]
     },
     "execution_count": 24,
     "metadata": {},
     "output_type": "execute_result"
    }
   ],
   "source": [
    "clustering_data.head()"
   ]
  },
  {
   "cell_type": "code",
   "execution_count": 25,
   "id": "257f4fe3",
   "metadata": {},
   "outputs": [
    {
     "data": {
      "image/png": "[encoded data removed]",
      "text/plain": [
       "<Figure size 432x288 with 1 Axes>"
      ]
     },
     "metadata": {
      "needs_background": "light"
     },
     "output_type": "display_data"
    }
   ],
   "source": [
    "import matplotlib.pyplot as plt\n",
    "from sklearn.cluster import KMeans\n",
    "\n",
    "# Assuming you have your data loaded in the 'clustering_data' variable\n",
    "\n",
    "k_range = range(1, 9)\n",
    "wcss = []\n",
    "\n",
    "for i in k_range:\n",
    "    kmeans = KMeans(n_clusters=i, n_init=10)\n",
    "    kmeans.fit(clustering_data)\n",
    "    wcss.append(kmeans.inertia_)\n",
    "\n",
    "# Now, you can plot the Within-Cluster-Sum-of-Squares (WCSS) against the number of clusters\n",
    "plt.plot(k_range, wcss)\n",
    "plt.xlabel('Number of Clusters')\n",
    "plt.ylabel('WCSS')\n",
    "plt.title('Elbow Method for Optimal k')\n",
    "plt.show()\n"
   ]
  },
  {
   "cell_type": "code",
   "execution_count": 26,
   "id": "f84549cf",
   "metadata": {},
   "outputs": [],
   "source": [
    "#FIT & PREDICT(labels)"
   ]
  },
  {
   "cell_type": "code",
   "execution_count": 27,
   "id": "582d9771",
   "metadata": {},
   "outputs": [
    {
     "name": "stderr",
     "output_type": "stream",
     "text": [
      "C:\\Users\\Admin\\anaconda3\\lib\\site-packages\\sklearn\\cluster\\_kmeans.py:1412: FutureWarning: The default value of `n_init` will change from 10 to 'auto' in 1.4. Set the value of `n_init` explicitly to suppress the warning\n",
      "  super()._check_params_vs_input(X, default_n_init=10)\n"
     ]
    },
    {
     "data": {
      "text/plain": [
       "array([0, 2, 0, 0, 0, 0, 0, 0, 0, 0, 0, 0, 0, 0, 0, 0, 0, 0, 0, 0, 0, 0,\n",
       "       0, 0, 0, 0, 0, 0, 0, 0, 0, 0, 0, 0, 0, 0, 0, 0, 1, 0, 0, 0, 0, 1,\n",
       "       0, 0, 1, 0, 0, 0, 0, 0, 0, 0, 0, 0, 0, 0, 0, 0, 0, 1, 0, 0, 1, 0,\n",
       "       0, 0, 2, 0, 0, 0, 0, 0, 0, 0, 0, 0, 0, 0, 0, 0, 0, 0, 0, 0, 1, 0,\n",
       "       0, 0, 0, 0, 0, 1, 0, 0, 0, 0, 0, 1, 0, 0, 0, 0, 0, 0, 0, 0, 0, 2,\n",
       "       0, 0, 0, 0, 2, 0, 0, 0, 0, 0, 0, 0, 2, 0, 0, 0, 0, 0, 0, 0, 0, 0,\n",
       "       0, 0, 0, 0, 0, 0, 2, 0, 0, 0, 0, 0, 0, 0, 1, 0, 0, 0, 1, 0, 0, 0,\n",
       "       0, 0, 0, 0, 2, 0, 0, 0, 0, 0, 0, 0, 0, 0, 0, 0, 0, 0, 0, 2, 0, 0,\n",
       "       0, 0, 0, 0, 2, 1, 0, 1, 0, 0, 0, 0, 0, 0, 0, 0, 0, 0, 0, 0, 0, 0,\n",
       "       2, 0, 0, 0, 0, 0, 0, 0, 2, 0, 0, 0, 0, 0, 1, 0, 0, 0, 0, 0, 0, 1,\n",
       "       0, 0, 0, 0, 0, 0, 0, 2, 0, 0, 0, 0, 0, 0, 0, 0, 0, 0, 0, 0, 0, 0,\n",
       "       0, 0, 0, 0, 0, 0, 0, 0, 0, 0, 0, 0, 0, 0, 2, 0, 0, 0, 0, 0, 0, 0,\n",
       "       2, 0, 0, 1, 0, 0, 0, 0, 0, 0, 0, 0, 0, 0, 0, 0, 0, 0, 0, 0, 0, 0,\n",
       "       0, 0, 0, 0, 0, 2, 0, 0, 0, 0, 0, 0, 0, 0, 0, 0, 0, 2, 0, 0, 0, 0,\n",
       "       0, 0, 0, 0, 0, 0, 0, 0, 0, 0, 0, 0, 0, 0, 0, 0, 0, 0, 0, 1, 0, 0,\n",
       "       0, 2, 0, 0, 0, 1, 0, 0, 0, 0, 0, 0, 0, 0, 0, 0, 0, 0, 0, 0, 0, 0,\n",
       "       1, 0, 2, 0, 2, 2, 0, 0, 0, 0, 0, 0, 0, 0, 0, 0, 0, 0, 0, 0, 0, 0,\n",
       "       0, 0, 0, 0, 1, 0, 0, 0, 0, 0, 0, 0, 0, 0, 0, 0, 2, 0, 0, 0, 1, 0,\n",
       "       0, 0, 0, 0, 0, 0, 0, 0, 0, 1, 0, 0, 0, 0, 0, 0, 0, 0, 0, 0, 0, 0,\n",
       "       0, 0, 0, 0, 0, 0, 0, 0, 0, 0, 0, 0, 0, 0, 0, 0, 0, 0, 0, 0, 1, 0,\n",
       "       0, 0, 0, 0, 0, 0, 0, 0, 0, 0, 0, 0, 0, 0, 0, 0, 0, 0, 0, 0, 0, 0,\n",
       "       0, 0, 0, 0, 0, 0, 1, 0, 0, 0, 0, 0, 0, 1, 1, 0, 0, 0, 0, 0, 0, 0,\n",
       "       0, 0, 0, 0, 0, 0, 0, 1, 0, 0, 0, 0, 0, 0, 0, 0, 2, 1, 0, 0, 0, 0,\n",
       "       0, 0, 0, 0, 0, 0, 0, 0, 0, 0, 0, 0, 0, 0, 0, 0, 0, 0, 0, 0, 0, 0,\n",
       "       0, 0, 0, 0, 0, 0, 0, 0, 0, 0, 2, 0, 0, 0, 0, 0, 0, 0, 0, 1, 0, 0,\n",
       "       0, 0, 0, 0, 0, 0, 0, 0, 0, 0, 1, 0, 0, 0, 2, 0, 0, 0, 0, 0, 0, 1,\n",
       "       1, 0, 0, 0, 0, 0, 0, 0, 0, 0, 0, 0, 1, 0, 0, 0, 0, 0, 0, 0, 0, 0,\n",
       "       0, 0, 0, 0, 2, 0, 0, 0, 0, 0, 0, 0, 0, 0, 0, 0, 0, 0, 0, 2, 0, 0,\n",
       "       0, 2, 0, 0, 0, 0, 0, 0, 0, 0, 0, 0, 0, 0, 0, 0, 0, 0, 0, 2, 0, 0,\n",
       "       0, 0, 0, 0, 0, 0, 0, 0, 0, 0, 0, 0, 0, 2, 0, 0, 0, 0, 0, 0, 0, 0,\n",
       "       0, 0, 2, 0, 0, 0, 0, 0, 2, 0, 0, 0, 0, 0, 0, 0, 0, 0, 0, 0, 0, 0,\n",
       "       0, 0, 0, 0, 0, 0, 0, 0, 0, 0, 0, 0, 0, 0, 0, 0, 0, 0, 0, 2, 0, 0,\n",
       "       0, 0, 0, 0, 0, 0, 0, 0, 0, 0, 2, 0, 0, 0, 0, 0, 2, 0, 0, 0, 0, 0,\n",
       "       0, 0, 0, 0, 0, 0, 0, 0, 0, 0, 0, 0, 0, 0, 1, 0, 0, 0, 0, 0, 0, 0,\n",
       "       0, 0, 2, 0, 0, 0, 0, 0, 0, 0, 1, 0, 0, 0, 0, 0, 0, 0, 0, 0, 0, 0,\n",
       "       0, 0, 0, 0, 0, 0, 0, 0, 0, 0, 0, 0, 0, 0, 0, 0, 1, 0, 0, 0, 0, 0,\n",
       "       0, 0, 0, 0, 0, 0, 0, 0, 0, 0, 0, 0, 0, 0, 1, 0, 0, 0, 0, 0, 0, 0,\n",
       "       0, 0, 0, 0, 0, 0, 0, 2, 0, 0, 0, 2, 0, 0, 0, 0, 0, 0, 0, 0, 2, 0,\n",
       "       0, 0, 0, 0, 0, 0, 0, 0, 0, 1, 0, 0, 0, 1, 0, 0, 0, 2, 0, 1, 0, 0,\n",
       "       0, 0, 0, 0, 1, 0, 0, 0, 0, 0, 2, 2, 0, 0, 0, 0, 0, 0, 0, 0, 0, 0,\n",
       "       0, 0, 0, 0, 0, 0, 0, 0, 0, 0, 0, 0, 0, 0, 0, 0, 0, 0, 0, 0, 0, 0,\n",
       "       0, 0, 0, 0, 0, 0, 0, 0, 0, 0, 0, 0, 0, 0, 1, 0, 0, 0, 0, 0, 0, 0,\n",
       "       0, 0, 1, 0, 0, 0, 0, 0, 0, 0, 0, 0, 0, 0, 0, 0, 0, 0, 0, 1, 0, 0,\n",
       "       0, 2, 0, 2, 0, 0, 0, 0, 0, 0, 2, 0, 0, 0, 0, 0, 0, 0, 0, 0, 0, 0,\n",
       "       0, 0, 0, 0, 0, 0, 0, 0, 0, 0, 1, 1, 0, 0, 0, 0, 0, 0, 0, 0, 0, 0,\n",
       "       0, 0, 0, 0, 0, 0, 0, 0, 0])"
      ]
     },
     "execution_count": 27,
     "metadata": {},
     "output_type": "execute_result"
    }
   ],
   "source": [
    "km = KMeans(n_clusters=3)\n",
    "y_predicted = km.fit_predict(data[[\"Last Visited Minutes\", \"Amount Spent on App (INR)\"]])\n",
    "y_predicted"
   ]
  },
  {
   "cell_type": "code",
   "execution_count": 28,
   "id": "200b010f",
   "metadata": {},
   "outputs": [
    {
     "data": {
      "text/html": [
       "<div>\n",
       "<style scoped>\n",
       "    .dataframe tbody tr th:only-of-type {\n",
       "        vertical-align: middle;\n",
       "    }\n",
       "\n",
       "    .dataframe tbody tr th {\n",
       "        vertical-align: top;\n",
       "    }\n",
       "\n",
       "    .dataframe thead th {\n",
       "        text-align: right;\n",
       "    }\n",
       "</style>\n",
       "<table border=\"1\" class=\"dataframe\">\n",
       "  <thead>\n",
       "    <tr style=\"text-align: right;\">\n",
       "      <th></th>\n",
       "      <th>userid</th>\n",
       "      <th>Screen Time</th>\n",
       "      <th>Amount Spent on App (INR)</th>\n",
       "      <th>Review</th>\n",
       "      <th>Ratings</th>\n",
       "      <th>New Password Request</th>\n",
       "      <th>Last Visited Minutes</th>\n",
       "      <th>Status</th>\n",
       "      <th>Segments</th>\n",
       "    </tr>\n",
       "  </thead>\n",
       "  <tbody>\n",
       "    <tr>\n",
       "      <th>0</th>\n",
       "      <td>1001</td>\n",
       "      <td>17</td>\n",
       "      <td>634</td>\n",
       "      <td>1</td>\n",
       "      <td>9</td>\n",
       "      <td>7</td>\n",
       "      <td>2990</td>\n",
       "      <td>Installed</td>\n",
       "      <td>0</td>\n",
       "    </tr>\n",
       "    <tr>\n",
       "      <th>1</th>\n",
       "      <td>1002</td>\n",
       "      <td>0</td>\n",
       "      <td>54</td>\n",
       "      <td>0</td>\n",
       "      <td>4</td>\n",
       "      <td>8</td>\n",
       "      <td>24008</td>\n",
       "      <td>Uninstalled</td>\n",
       "      <td>2</td>\n",
       "    </tr>\n",
       "    <tr>\n",
       "      <th>2</th>\n",
       "      <td>1003</td>\n",
       "      <td>37</td>\n",
       "      <td>207</td>\n",
       "      <td>0</td>\n",
       "      <td>8</td>\n",
       "      <td>5</td>\n",
       "      <td>971</td>\n",
       "      <td>Installed</td>\n",
       "      <td>0</td>\n",
       "    </tr>\n",
       "    <tr>\n",
       "      <th>3</th>\n",
       "      <td>1004</td>\n",
       "      <td>32</td>\n",
       "      <td>445</td>\n",
       "      <td>1</td>\n",
       "      <td>6</td>\n",
       "      <td>2</td>\n",
       "      <td>799</td>\n",
       "      <td>Installed</td>\n",
       "      <td>0</td>\n",
       "    </tr>\n",
       "    <tr>\n",
       "      <th>4</th>\n",
       "      <td>1005</td>\n",
       "      <td>45</td>\n",
       "      <td>427</td>\n",
       "      <td>1</td>\n",
       "      <td>5</td>\n",
       "      <td>6</td>\n",
       "      <td>3668</td>\n",
       "      <td>Installed</td>\n",
       "      <td>0</td>\n",
       "    </tr>\n",
       "  </tbody>\n",
       "</table>\n",
       "</div>"
      ],
      "text/plain": [
       "   userid  Screen Time  Amount Spent on App (INR)  Review  Ratings  \\\n",
       "0    1001           17                        634       1        9   \n",
       "1    1002            0                         54       0        4   \n",
       "2    1003           37                        207       0        8   \n",
       "3    1004           32                        445       1        6   \n",
       "4    1005           45                        427       1        5   \n",
       "\n",
       "   New Password Request  Last Visited Minutes       Status  Segments  \n",
       "0                     7                  2990    Installed         0  \n",
       "1                     8                 24008  Uninstalled         2  \n",
       "2                     5                   971    Installed         0  \n",
       "3                     2                   799    Installed         0  \n",
       "4                     6                  3668    Installed         0  "
      ]
     },
     "execution_count": 28,
     "metadata": {},
     "output_type": "execute_result"
    }
   ],
   "source": [
    "data['Segments'] = y_predicted\n",
    "data.head()"
   ]
  },
  {
   "cell_type": "code",
   "execution_count": 29,
   "id": "23c0835d",
   "metadata": {},
   "outputs": [
    {
     "data": {
      "text/plain": [
       "array([[ 2673.32197802,   460.82527473],\n",
       "       [39574.75555556,    53.33333333],\n",
       "       [20277.29545455,    50.90909091]])"
      ]
     },
     "execution_count": 29,
     "metadata": {},
     "output_type": "execute_result"
    }
   ],
   "source": [
    "km.cluster_centers_"
   ]
  },
  {
   "cell_type": "code",
   "execution_count": 30,
   "id": "93d458e2",
   "metadata": {},
   "outputs": [
    {
     "data": {
      "text/plain": [
       "array([0, 2, 1])"
      ]
     },
     "execution_count": 30,
     "metadata": {},
     "output_type": "execute_result"
    }
   ],
   "source": [
    "data.Segments.unique()"
   ]
  },
  {
   "cell_type": "code",
   "execution_count": 31,
   "id": "b33f2979",
   "metadata": {},
   "outputs": [],
   "source": [
    "data1 = data[data.Segments==0]\n",
    "data2 = data[data.Segments==1]\n",
    "data3 = data[data.Segments==2]"
   ]
  },
  {
   "cell_type": "code",
   "execution_count": 32,
   "id": "420da906",
   "metadata": {},
   "outputs": [
    {
     "data": {
      "text/plain": [
       "<matplotlib.legend.Legend at 0x2a1984da7c0>"
      ]
     },
     "execution_count": 32,
     "metadata": {},
     "output_type": "execute_result"
    },
    {
     "data": {
      "image/png": "[encoded data removed]",
      "text/plain": [
       "<Figure size 432x288 with 1 Axes>"
      ]
     },
     "metadata": {
      "needs_background": "light"
     },
     "output_type": "display_data"
    }
   ],
   "source": [
    "plt.scatter(data1['Last Visited Minutes'],data1['Amount Spent on App (INR)'],color='blue')\n",
    "plt.scatter(data2['Last Visited Minutes'],data2['Amount Spent on App (INR)'],color='green')\n",
    "plt.scatter(data3['Last Visited Minutes'],data3['Amount Spent on App (INR)'],color='red')\n",
    "plt.scatter(km.cluster_centers_[:,0],km.cluster_centers_[:,1],color='black',marker='*',label='centroid')\n",
    "\n",
    "plt.xlabel('Last Visited Minutes')\n",
    "plt.ylabel('Amount Spent on App (INR)')\n",
    "plt.legend()"
   ]
  },
  {
   "cell_type": "code",
   "execution_count": 33,
   "id": "f0099819",
   "metadata": {},
   "outputs": [
    {
     "data": {
      "text/html": [
       "<div>\n",
       "<style scoped>\n",
       "    .dataframe tbody tr th:only-of-type {\n",
       "        vertical-align: middle;\n",
       "    }\n",
       "\n",
       "    .dataframe tbody tr th {\n",
       "        vertical-align: top;\n",
       "    }\n",
       "\n",
       "    .dataframe thead th {\n",
       "        text-align: right;\n",
       "    }\n",
       "</style>\n",
       "<table border=\"1\" class=\"dataframe\">\n",
       "  <thead>\n",
       "    <tr style=\"text-align: right;\">\n",
       "      <th></th>\n",
       "      <th>userid</th>\n",
       "      <th>Screen Time</th>\n",
       "      <th>Amount Spent on App (INR)</th>\n",
       "      <th>Review</th>\n",
       "      <th>Ratings</th>\n",
       "      <th>New Password Request</th>\n",
       "      <th>Last Visited Minutes</th>\n",
       "      <th>Status</th>\n",
       "      <th>Segments</th>\n",
       "    </tr>\n",
       "  </thead>\n",
       "  <tbody>\n",
       "    <tr>\n",
       "      <th>0</th>\n",
       "      <td>1001</td>\n",
       "      <td>17</td>\n",
       "      <td>0.635271</td>\n",
       "      <td>1</td>\n",
       "      <td>9</td>\n",
       "      <td>7</td>\n",
       "      <td>0.056328</td>\n",
       "      <td>Installed</td>\n",
       "      <td>0</td>\n",
       "    </tr>\n",
       "    <tr>\n",
       "      <th>1</th>\n",
       "      <td>1002</td>\n",
       "      <td>0</td>\n",
       "      <td>0.054108</td>\n",
       "      <td>0</td>\n",
       "      <td>4</td>\n",
       "      <td>8</td>\n",
       "      <td>0.480814</td>\n",
       "      <td>Uninstalled</td>\n",
       "      <td>2</td>\n",
       "    </tr>\n",
       "    <tr>\n",
       "      <th>2</th>\n",
       "      <td>1003</td>\n",
       "      <td>37</td>\n",
       "      <td>0.207415</td>\n",
       "      <td>0</td>\n",
       "      <td>8</td>\n",
       "      <td>5</td>\n",
       "      <td>0.015551</td>\n",
       "      <td>Installed</td>\n",
       "      <td>0</td>\n",
       "    </tr>\n",
       "    <tr>\n",
       "      <th>3</th>\n",
       "      <td>1004</td>\n",
       "      <td>32</td>\n",
       "      <td>0.445892</td>\n",
       "      <td>1</td>\n",
       "      <td>6</td>\n",
       "      <td>2</td>\n",
       "      <td>0.012077</td>\n",
       "      <td>Installed</td>\n",
       "      <td>0</td>\n",
       "    </tr>\n",
       "    <tr>\n",
       "      <th>4</th>\n",
       "      <td>1005</td>\n",
       "      <td>45</td>\n",
       "      <td>0.427856</td>\n",
       "      <td>1</td>\n",
       "      <td>5</td>\n",
       "      <td>6</td>\n",
       "      <td>0.070021</td>\n",
       "      <td>Installed</td>\n",
       "      <td>0</td>\n",
       "    </tr>\n",
       "  </tbody>\n",
       "</table>\n",
       "</div>"
      ],
      "text/plain": [
       "   userid  Screen Time  Amount Spent on App (INR)  Review  Ratings  \\\n",
       "0    1001           17                   0.635271       1        9   \n",
       "1    1002            0                   0.054108       0        4   \n",
       "2    1003           37                   0.207415       0        8   \n",
       "3    1004           32                   0.445892       1        6   \n",
       "4    1005           45                   0.427856       1        5   \n",
       "\n",
       "   New Password Request  Last Visited Minutes       Status  Segments  \n",
       "0                     7              0.056328    Installed         0  \n",
       "1                     8              0.480814  Uninstalled         2  \n",
       "2                     5              0.015551    Installed         0  \n",
       "3                     2              0.012077    Installed         0  \n",
       "4                     6              0.070021    Installed         0  "
      ]
     },
     "execution_count": 33,
     "metadata": {},
     "output_type": "execute_result"
    }
   ],
   "source": [
    "scaler = MinMaxScaler()\n",
    "\n",
    "scaler.fit(data[['Amount Spent on App (INR)']])\n",
    "data['Amount Spent on App (INR)'] = scaler.transform(data[['Amount Spent on App (INR)']])\n",
    "\n",
    "scaler.fit(data[['Last Visited Minutes']])\n",
    "data['Last Visited Minutes'] = scaler.transform(data[['Last Visited Minutes']])\n",
    "data.head()"
   ]
  },
  {
   "cell_type": "code",
   "execution_count": 34,
   "id": "c358b3aa",
   "metadata": {},
   "outputs": [],
   "source": [
    "# PARTITIONAL CLUSTERING"
   ]
  },
  {
   "cell_type": "markdown",
   "id": "7b6ff6ba",
   "metadata": {},
   "source": [
    "# KMeans Clustering"
   ]
  },
  {
   "cell_type": "code",
   "execution_count": 35,
   "id": "49acd796",
   "metadata": {},
   "outputs": [
    {
     "data": {
      "text/html": [
       "<div>\n",
       "<style scoped>\n",
       "    .dataframe tbody tr th:only-of-type {\n",
       "        vertical-align: middle;\n",
       "    }\n",
       "\n",
       "    .dataframe tbody tr th {\n",
       "        vertical-align: top;\n",
       "    }\n",
       "\n",
       "    .dataframe thead th {\n",
       "        text-align: right;\n",
       "    }\n",
       "</style>\n",
       "<table border=\"1\" class=\"dataframe\">\n",
       "  <thead>\n",
       "    <tr style=\"text-align: right;\">\n",
       "      <th></th>\n",
       "      <th>userid</th>\n",
       "      <th>Screen Time</th>\n",
       "      <th>Amount Spent on App (INR)</th>\n",
       "      <th>Review</th>\n",
       "      <th>Ratings</th>\n",
       "      <th>New Password Request</th>\n",
       "      <th>Last Visited Minutes</th>\n",
       "      <th>Status</th>\n",
       "      <th>Segments</th>\n",
       "    </tr>\n",
       "  </thead>\n",
       "  <tbody>\n",
       "    <tr>\n",
       "      <th>0</th>\n",
       "      <td>1001</td>\n",
       "      <td>17</td>\n",
       "      <td>0.635271</td>\n",
       "      <td>1</td>\n",
       "      <td>9</td>\n",
       "      <td>7</td>\n",
       "      <td>0.056328</td>\n",
       "      <td>Installed</td>\n",
       "      <td>0</td>\n",
       "    </tr>\n",
       "    <tr>\n",
       "      <th>1</th>\n",
       "      <td>1002</td>\n",
       "      <td>0</td>\n",
       "      <td>0.054108</td>\n",
       "      <td>0</td>\n",
       "      <td>4</td>\n",
       "      <td>8</td>\n",
       "      <td>0.480814</td>\n",
       "      <td>Uninstalled</td>\n",
       "      <td>1</td>\n",
       "    </tr>\n",
       "    <tr>\n",
       "      <th>2</th>\n",
       "      <td>1003</td>\n",
       "      <td>37</td>\n",
       "      <td>0.207415</td>\n",
       "      <td>0</td>\n",
       "      <td>8</td>\n",
       "      <td>5</td>\n",
       "      <td>0.015551</td>\n",
       "      <td>Installed</td>\n",
       "      <td>0</td>\n",
       "    </tr>\n",
       "    <tr>\n",
       "      <th>3</th>\n",
       "      <td>1004</td>\n",
       "      <td>32</td>\n",
       "      <td>0.445892</td>\n",
       "      <td>1</td>\n",
       "      <td>6</td>\n",
       "      <td>2</td>\n",
       "      <td>0.012077</td>\n",
       "      <td>Installed</td>\n",
       "      <td>0</td>\n",
       "    </tr>\n",
       "    <tr>\n",
       "      <th>4</th>\n",
       "      <td>1005</td>\n",
       "      <td>45</td>\n",
       "      <td>0.427856</td>\n",
       "      <td>1</td>\n",
       "      <td>5</td>\n",
       "      <td>6</td>\n",
       "      <td>0.070021</td>\n",
       "      <td>Installed</td>\n",
       "      <td>0</td>\n",
       "    </tr>\n",
       "    <tr>\n",
       "      <th>...</th>\n",
       "      <td>...</td>\n",
       "      <td>...</td>\n",
       "      <td>...</td>\n",
       "      <td>...</td>\n",
       "      <td>...</td>\n",
       "      <td>...</td>\n",
       "      <td>...</td>\n",
       "      <td>...</td>\n",
       "      <td>...</td>\n",
       "    </tr>\n",
       "    <tr>\n",
       "      <th>994</th>\n",
       "      <td>1995</td>\n",
       "      <td>38</td>\n",
       "      <td>0.939880</td>\n",
       "      <td>0</td>\n",
       "      <td>5</td>\n",
       "      <td>4</td>\n",
       "      <td>0.033607</td>\n",
       "      <td>Installed</td>\n",
       "      <td>0</td>\n",
       "    </tr>\n",
       "    <tr>\n",
       "      <th>995</th>\n",
       "      <td>1996</td>\n",
       "      <td>43</td>\n",
       "      <td>0.061122</td>\n",
       "      <td>0</td>\n",
       "      <td>6</td>\n",
       "      <td>8</td>\n",
       "      <td>0.022741</td>\n",
       "      <td>Installed</td>\n",
       "      <td>0</td>\n",
       "    </tr>\n",
       "    <tr>\n",
       "      <th>996</th>\n",
       "      <td>1997</td>\n",
       "      <td>47</td>\n",
       "      <td>0.762525</td>\n",
       "      <td>0</td>\n",
       "      <td>6</td>\n",
       "      <td>1</td>\n",
       "      <td>0.035041</td>\n",
       "      <td>Installed</td>\n",
       "      <td>0</td>\n",
       "    </tr>\n",
       "    <tr>\n",
       "      <th>997</th>\n",
       "      <td>1998</td>\n",
       "      <td>6</td>\n",
       "      <td>0.073146</td>\n",
       "      <td>1</td>\n",
       "      <td>5</td>\n",
       "      <td>1</td>\n",
       "      <td>0.065335</td>\n",
       "      <td>Installed</td>\n",
       "      <td>0</td>\n",
       "    </tr>\n",
       "    <tr>\n",
       "      <th>998</th>\n",
       "      <td>1999</td>\n",
       "      <td>9</td>\n",
       "      <td>0.054108</td>\n",
       "      <td>0</td>\n",
       "      <td>4</td>\n",
       "      <td>2</td>\n",
       "      <td>0.077513</td>\n",
       "      <td>Installed</td>\n",
       "      <td>0</td>\n",
       "    </tr>\n",
       "  </tbody>\n",
       "</table>\n",
       "<p>999 rows × 9 columns</p>\n",
       "</div>"
      ],
      "text/plain": [
       "     userid  Screen Time  Amount Spent on App (INR)  Review  Ratings  \\\n",
       "0      1001           17                   0.635271       1        9   \n",
       "1      1002            0                   0.054108       0        4   \n",
       "2      1003           37                   0.207415       0        8   \n",
       "3      1004           32                   0.445892       1        6   \n",
       "4      1005           45                   0.427856       1        5   \n",
       "..      ...          ...                        ...     ...      ...   \n",
       "994    1995           38                   0.939880       0        5   \n",
       "995    1996           43                   0.061122       0        6   \n",
       "996    1997           47                   0.762525       0        6   \n",
       "997    1998            6                   0.073146       1        5   \n",
       "998    1999            9                   0.054108       0        4   \n",
       "\n",
       "     New Password Request  Last Visited Minutes       Status  Segments  \n",
       "0                       7              0.056328    Installed         0  \n",
       "1                       8              0.480814  Uninstalled         1  \n",
       "2                       5              0.015551    Installed         0  \n",
       "3                       2              0.012077    Installed         0  \n",
       "4                       6              0.070021    Installed         0  \n",
       "..                    ...                   ...          ...       ...  \n",
       "994                     4              0.033607    Installed         0  \n",
       "995                     8              0.022741    Installed         0  \n",
       "996                     1              0.035041    Installed         0  \n",
       "997                     1              0.065335    Installed         0  \n",
       "998                     2              0.077513    Installed         0  \n",
       "\n",
       "[999 rows x 9 columns]"
      ]
     },
     "execution_count": 35,
     "metadata": {},
     "output_type": "execute_result"
    }
   ],
   "source": [
    "kmeans_model = KMeans(n_clusters=3,n_init=10)\n",
    "clusters = kmeans_model.fit_predict(clustering_data)\n",
    "data['Segments'] = clusters\n",
    "data"
   ]
  },
  {
   "cell_type": "code",
   "execution_count": 36,
   "id": "00c5fd31",
   "metadata": {},
   "outputs": [
    {
     "data": {
      "text/plain": [
       "0    910\n",
       "2     45\n",
       "1     44\n",
       "Name: Segments, dtype: int64"
      ]
     },
     "execution_count": 36,
     "metadata": {},
     "output_type": "execute_result"
    }
   ],
   "source": [
    "data['Segments'].value_counts()"
   ]
  },
  {
   "cell_type": "code",
   "execution_count": 37,
   "id": "4748d5d0",
   "metadata": {},
   "outputs": [
    {
     "data": {
      "image/png": "[encoded data removed]",
      "text/plain": [
       "<Figure size 1008x432 with 1 Axes>"
      ]
     },
     "metadata": {
      "needs_background": "light"
     },
     "output_type": "display_data"
    }
   ],
   "source": [
    "plt.figure(figsize=(14,6))\n",
    "ax = sns.countplot(x='Segments',data=data)\n",
    "plt.show()"
   ]
  },
  {
   "cell_type": "markdown",
   "id": "7182c0b6",
   "metadata": {},
   "source": [
    "# Rename the segments"
   ]
  },
  {
   "cell_type": "code",
   "execution_count": 38,
   "id": "0d5da0d7",
   "metadata": {},
   "outputs": [
    {
     "data": {
      "text/html": [
       "<div>\n",
       "<style scoped>\n",
       "    .dataframe tbody tr th:only-of-type {\n",
       "        vertical-align: middle;\n",
       "    }\n",
       "\n",
       "    .dataframe tbody tr th {\n",
       "        vertical-align: top;\n",
       "    }\n",
       "\n",
       "    .dataframe thead th {\n",
       "        text-align: right;\n",
       "    }\n",
       "</style>\n",
       "<table border=\"1\" class=\"dataframe\">\n",
       "  <thead>\n",
       "    <tr style=\"text-align: right;\">\n",
       "      <th></th>\n",
       "      <th>userid</th>\n",
       "      <th>Screen Time</th>\n",
       "      <th>Amount Spent on App (INR)</th>\n",
       "      <th>Review</th>\n",
       "      <th>Ratings</th>\n",
       "      <th>New Password Request</th>\n",
       "      <th>Last Visited Minutes</th>\n",
       "      <th>Status</th>\n",
       "      <th>Segments</th>\n",
       "    </tr>\n",
       "  </thead>\n",
       "  <tbody>\n",
       "    <tr>\n",
       "      <th>0</th>\n",
       "      <td>1001</td>\n",
       "      <td>17</td>\n",
       "      <td>0.635271</td>\n",
       "      <td>1</td>\n",
       "      <td>9</td>\n",
       "      <td>7</td>\n",
       "      <td>0.056328</td>\n",
       "      <td>Installed</td>\n",
       "      <td>Retained</td>\n",
       "    </tr>\n",
       "    <tr>\n",
       "      <th>1</th>\n",
       "      <td>1002</td>\n",
       "      <td>0</td>\n",
       "      <td>0.054108</td>\n",
       "      <td>0</td>\n",
       "      <td>4</td>\n",
       "      <td>8</td>\n",
       "      <td>0.480814</td>\n",
       "      <td>Uninstalled</td>\n",
       "      <td>Needs Attention</td>\n",
       "    </tr>\n",
       "    <tr>\n",
       "      <th>2</th>\n",
       "      <td>1003</td>\n",
       "      <td>37</td>\n",
       "      <td>0.207415</td>\n",
       "      <td>0</td>\n",
       "      <td>8</td>\n",
       "      <td>5</td>\n",
       "      <td>0.015551</td>\n",
       "      <td>Installed</td>\n",
       "      <td>Retained</td>\n",
       "    </tr>\n",
       "    <tr>\n",
       "      <th>3</th>\n",
       "      <td>1004</td>\n",
       "      <td>32</td>\n",
       "      <td>0.445892</td>\n",
       "      <td>1</td>\n",
       "      <td>6</td>\n",
       "      <td>2</td>\n",
       "      <td>0.012077</td>\n",
       "      <td>Installed</td>\n",
       "      <td>Retained</td>\n",
       "    </tr>\n",
       "    <tr>\n",
       "      <th>4</th>\n",
       "      <td>1005</td>\n",
       "      <td>45</td>\n",
       "      <td>0.427856</td>\n",
       "      <td>1</td>\n",
       "      <td>5</td>\n",
       "      <td>6</td>\n",
       "      <td>0.070021</td>\n",
       "      <td>Installed</td>\n",
       "      <td>Retained</td>\n",
       "    </tr>\n",
       "  </tbody>\n",
       "</table>\n",
       "</div>"
      ],
      "text/plain": [
       "   userid  Screen Time  Amount Spent on App (INR)  Review  Ratings  \\\n",
       "0    1001           17                   0.635271       1        9   \n",
       "1    1002            0                   0.054108       0        4   \n",
       "2    1003           37                   0.207415       0        8   \n",
       "3    1004           32                   0.445892       1        6   \n",
       "4    1005           45                   0.427856       1        5   \n",
       "\n",
       "   New Password Request  Last Visited Minutes       Status         Segments  \n",
       "0                     7              0.056328    Installed         Retained  \n",
       "1                     8              0.480814  Uninstalled  Needs Attention  \n",
       "2                     5              0.015551    Installed         Retained  \n",
       "3                     2              0.012077    Installed         Retained  \n",
       "4                     6              0.070021    Installed         Retained  "
      ]
     },
     "execution_count": 38,
     "metadata": {},
     "output_type": "execute_result"
    }
   ],
   "source": [
    "data[\"Segments\"] = data[\"Segments\"].map({0: \"Retained\", 1: \n",
    "    \"Needs Attention\", 2: \"Churn\"})\n",
    "data.head()"
   ]
  },
  {
   "cell_type": "code",
   "execution_count": 39,
   "id": "2e0fc72e",
   "metadata": {},
   "outputs": [
    {
     "data": {
      "image/png": "[encoded data removed]",
      "text/plain": [
       "<Figure size 1008x576 with 1 Axes>"
      ]
     },
     "metadata": {
      "needs_background": "light"
     },
     "output_type": "display_data"
    }
   ],
   "source": [
    "plt.figure(figsize=(14,8))\n",
    "sns.scatterplot(data=data, x='Last Visited Minutes', y='Amount Spent on App (INR)', hue='Segments')\n",
    "plt.xlabel('Last Visited Minutes')\n",
    "plt.ylabel('Average Spent on App (INR)')\n",
    "plt.title('Segmentation')\n",
    "plt.show()"
   ]
  },
  {
   "cell_type": "code",
   "execution_count": null,
   "id": "b684ecda",
   "metadata": {},
   "outputs": [],
   "source": []
  }
 ],
 "metadata": {
  "kernelspec": {
   "display_name": "Python 3",
   "language": "python",
   "name": "python3"
  },
  "language_info": {
   "codemirror_mode": {
    "name": "ipython",
    "version": 3
   },
   "file_extension": ".py",
   "mimetype": "text/x-python",
   "name": "python",
   "nbconvert_exporter": "python",
   "pygments_lexer": "ipython3",
   "version": "3.8.8"
  }
 },
 "nbformat": 4,
 "nbformat_minor": 5
}
